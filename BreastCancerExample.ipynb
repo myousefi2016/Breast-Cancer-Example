{
 "cells": [
  {
   "cell_type": "code",
   "execution_count": 1,
   "metadata": {},
   "outputs": [],
   "source": [
    "import math\n",
    "import numpy as np\n",
    "import pandas as pd\n",
    "from sklearn.model_selection import GridSearchCV\n",
    "from sklearn.feature_selection import RFE\n",
    "from sklearn.svm import SVC\n",
    "from sklearn.model_selection import StratifiedKFold, train_test_split\n",
    "from sklearn.metrics import accuracy_score, classification_report, roc_auc_score\n",
    "from sklearn.preprocessing import StandardScaler\n",
    "from sklearn import preprocessing\n",
    "import tabpy_client\n",
    "from sklearn.datasets import load_breast_cancer"
   ]
  },
  {
   "cell_type": "code",
   "execution_count": 2,
   "metadata": {
    "scrolled": false
   },
   "outputs": [
    {
     "data": {
      "text/plain": [
       "LabelEncoder()"
      ]
     },
     "execution_count": 2,
     "metadata": {},
     "output_type": "execute_result"
    }
   ],
   "source": [
    "data = load_breast_cancer()\n",
    "\n",
    "X = data.data\n",
    "\n",
    "y = data.target\n",
    "\n",
    "columns = data.feature_names\n",
    "\n",
    "encoder = preprocessing.LabelEncoder()\n",
    "\n",
    "encoder.fit(data.target_names)"
   ]
  },
  {
   "cell_type": "code",
   "execution_count": 3,
   "metadata": {},
   "outputs": [],
   "source": [
    "df = pd.DataFrame(data=np.concatenate([X,encoder.inverse_transform(y).reshape((X.shape[0],1))],axis=1))\n",
    "df.columns = data.feature_names.tolist() + ['Class']\n",
    "df.to_csv('./Data.csv',index=False)"
   ]
  },
  {
   "cell_type": "code",
   "execution_count": 4,
   "metadata": {},
   "outputs": [
    {
     "name": "stdout",
     "output_type": "stream",
     "text": [
      "Accuracy score (train): 0.949\n",
      "ROC AUC (train): 0.985\n",
      "['mean concavity' 'worst area']\n"
     ]
    }
   ],
   "source": [
    "params = {'C': 1.0, 'kernel': 'linear', 'probability': True, 'random_state': 12345}\n",
    "\n",
    "scaler = StandardScaler()\n",
    "scaler.fit(X)\n",
    "\n",
    "X_scaled = scaler.transform(X)\n",
    "\n",
    "estimator = SVC()\n",
    "\n",
    "estimator.set_params(**params)\n",
    "\n",
    "selector = RFE(estimator=estimator,n_features_to_select=2)\n",
    "\n",
    "selector.fit(X_scaled,y)\n",
    "\n",
    "X_scaled = selector.transform(X_scaled)\n",
    "X = selector.transform(X)\n",
    "\n",
    "estimator = selector.estimator_\n",
    "\n",
    "print(\"Accuracy score (train): {0:.3f}\".format(estimator.score(X_scaled, y)))\n",
    "\n",
    "roc_auc = roc_auc_score(y, estimator.predict_proba(X_scaled)[:,1])\n",
    "\n",
    "print(\"ROC AUC (train): {0:.3f}\".format(roc_auc))\n",
    "\n",
    "features_kept = columns[selector.support_]\n",
    "\n",
    "print(features_kept)"
   ]
  },
  {
   "cell_type": "code",
   "execution_count": 5,
   "metadata": {},
   "outputs": [],
   "source": [
    "def ModelSelectionNestedCV(estimator,params,X,y,NUM_TRIALS=100):\n",
    "\n",
    "    cum_train_aucc = []\n",
    "    cum_val_aucc = []\n",
    "    cum_train_auc = []\n",
    "    cum_val_auc = []\n",
    "\n",
    "    best_estimators = []\n",
    "    best_params = []\n",
    "\n",
    "    for iteration in range(NUM_TRIALS):\n",
    "\n",
    "        X_train, X_val, y_train, y_val = train_test_split(X, y, test_size=0.3, stratify=y, shuffle=True)\n",
    "\n",
    "        scaler = StandardScaler()\n",
    "        scaler.fit(X_train)\n",
    "\n",
    "        X_train = scaler.transform(X_train)\n",
    "        X_val = scaler.transform(X_val)\n",
    "\n",
    "        skf = StratifiedKFold(n_splits=5, shuffle=True)\n",
    "\n",
    "        clf = GridSearchCV(estimator=estimator,param_grid=params,scoring='accuracy',n_jobs=-1,cv=skf,refit=True,verbose=0)\n",
    "\n",
    "        clf.fit(X_train,y_train)\n",
    "\n",
    "        estimator = clf.best_estimator_\n",
    "\n",
    "        best_estimators.append(clf.best_estimator_)\n",
    "\n",
    "        print(clf.best_params_)\n",
    "\n",
    "        best_params.append(clf.best_params_)\n",
    "\n",
    "        print(\"Accuracy score (train): {0:.3f}\".format(estimator.score(X_train, y_train)))\n",
    "        print(\"Accuracy score (validation): {0:.3f}\".format(estimator.score(X_val, y_val)))\n",
    "\n",
    "        roc_auc = dict()\n",
    "\n",
    "        roc_auc[0] = roc_auc_score(y_train, estimator.predict_proba(X_train)[:,1])\n",
    "        roc_auc[1] = roc_auc_score(y_val, estimator.predict_proba(X_val)[:,1])\n",
    "\n",
    "        print(\"ROC AUC (train): {0:.3f}\".format(roc_auc[0]))\n",
    "        print(\"ROC AUC (validation): {0:.3f}\".format(roc_auc[1]))\n",
    "\n",
    "        cum_train_aucc.append(estimator.score(X_train, y_train))\n",
    "        cum_val_aucc.append(estimator.score(X_val, y_val))\n",
    "\n",
    "        cum_train_auc.append(roc_auc[0])\n",
    "        cum_val_auc.append(roc_auc[1])\n",
    "\n",
    "    print(\"Average accuracy score (train): {0:.3f}\".format(np.mean(cum_train_aucc)))\n",
    "    print(\"Average accuracy score (validation): {0:.3f}\".format(np.mean(cum_val_aucc)))\n",
    "\n",
    "    print(\"Standard deviation of accuracy score (train): {0:.3f}\".format(np.std(cum_train_aucc)))\n",
    "    print(\"Standard deviation of accuracy score (validation): {0:.3f}\".format(np.std(cum_val_aucc)))\n",
    "\n",
    "    print(\"95% CI of accuracy score (train): \",format(np.percentile(cum_train_aucc, (2.5, 97.5))))\n",
    "    print(\"95% CI of accuracy score (validation): \",format(np.percentile(cum_val_aucc, (2.5, 97.5))))\n",
    "\n",
    "    print(\"Average ROC AUC (train): {0:.3f}\".format(np.mean(cum_train_auc)))\n",
    "    print(\"Average ROC AUC (validation): {0:.3f}\".format(np.mean(cum_val_auc)))\n",
    "\n",
    "    print(\"Standard deviation of ROC AUC (train): {0:.3f}\".format(np.std(cum_train_auc)))\n",
    "    print(\"Standard deviation of ROC AUC (validation): {0:.3f}\".format(np.std(cum_val_auc)))\n",
    "\n",
    "    print(\"95% CI of ROC AUC (train): \",format(np.percentile(cum_train_auc, (2.5, 97.5))))\n",
    "    print(\"95% CI of ROC AUC (validation): \",format(np.percentile(cum_val_auc, (2.5, 97.5))))\n",
    "\n",
    "    return best_estimators, best_params, cum_train_aucc, cum_val_aucc, cum_train_auc, cum_val_auc"
   ]
  },
  {
   "cell_type": "code",
   "execution_count": 6,
   "metadata": {
    "scrolled": false
   },
   "outputs": [
    {
     "name": "stdout",
     "output_type": "stream",
     "text": [
      "{'C': 0.39645675675675673, 'kernel': 'linear', 'probability': True, 'random_state': 12345}\n",
      "Accuracy score (train): 0.942\n",
      "Accuracy score (validation): 0.959\n",
      "ROC AUC (train): 0.982\n",
      "ROC AUC (validation): 0.993\n",
      "{'C': 0.5716144144144144, 'kernel': 'linear', 'probability': True, 'random_state': 12345}\n",
      "Accuracy score (train): 0.950\n",
      "Accuracy score (validation): 0.953\n",
      "ROC AUC (train): 0.984\n",
      "ROC AUC (validation): 0.987\n",
      "{'C': 0.3013711711711711, 'kernel': 'linear', 'probability': True, 'random_state': 12345}\n",
      "Accuracy score (train): 0.945\n",
      "Accuracy score (validation): 0.942\n",
      "ROC AUC (train): 0.982\n",
      "ROC AUC (validation): 0.988\n",
      "{'C': 0.43248918918918916, 'kernel': 'linear', 'probability': True, 'random_state': 12345}\n",
      "Accuracy score (train): 0.942\n",
      "Accuracy score (validation): 0.959\n",
      "ROC AUC (train): 0.986\n",
      "ROC AUC (validation): 0.979\n",
      "{'C': 0.23330990990990988, 'kernel': 'linear', 'probability': True, 'random_state': 12345}\n",
      "Accuracy score (train): 0.955\n",
      "Accuracy score (validation): 0.936\n",
      "ROC AUC (train): 0.985\n",
      "ROC AUC (validation): 0.983\n"
     ]
    },
    {
     "name": "stderr",
     "output_type": "stream",
     "text": [
      "C:\\Anaconda3\\lib\\site-packages\\sklearn\\model_selection\\_search.py:813: DeprecationWarning: The default of the `iid` parameter will change from True to False in version 0.22 and will be removed in 0.24. This will change numeric results when test-set sizes are unequal.\n",
      "  DeprecationWarning)\n"
     ]
    },
    {
     "name": "stdout",
     "output_type": "stream",
     "text": [
      "{'C': 0.40746666666666664, 'kernel': 'linear', 'probability': True, 'random_state': 12345}\n",
      "Accuracy score (train): 0.945\n",
      "Accuracy score (validation): 0.953\n",
      "ROC AUC (train): 0.986\n",
      "ROC AUC (validation): 0.984\n",
      "{'C': 0.6246621621621621, 'kernel': 'linear', 'probability': True, 'random_state': 12345}\n",
      "Accuracy score (train): 0.940\n",
      "Accuracy score (validation): 0.959\n",
      "ROC AUC (train): 0.984\n",
      "ROC AUC (validation): 0.987\n"
     ]
    },
    {
     "name": "stderr",
     "output_type": "stream",
     "text": [
      "C:\\Anaconda3\\lib\\site-packages\\sklearn\\model_selection\\_search.py:813: DeprecationWarning: The default of the `iid` parameter will change from True to False in version 0.22 and will be removed in 0.24. This will change numeric results when test-set sizes are unequal.\n",
      "  DeprecationWarning)\n"
     ]
    },
    {
     "name": "stdout",
     "output_type": "stream",
     "text": [
      "{'C': 0.22229999999999997, 'kernel': 'linear', 'probability': True, 'random_state': 12345}\n",
      "Accuracy score (train): 0.957\n",
      "Accuracy score (validation): 0.918\n",
      "ROC AUC (train): 0.985\n",
      "ROC AUC (validation): 0.979\n",
      "{'C': 0.39945945945945943, 'kernel': 'linear', 'probability': True, 'random_state': 12345}\n",
      "Accuracy score (train): 0.942\n",
      "Accuracy score (validation): 0.947\n",
      "ROC AUC (train): 0.986\n",
      "ROC AUC (validation): 0.982\n",
      "{'C': 0.6837153153153153, 'kernel': 'linear', 'probability': True, 'random_state': 12345}\n",
      "Accuracy score (train): 0.937\n",
      "Accuracy score (validation): 0.953\n",
      "ROC AUC (train): 0.980\n",
      "ROC AUC (validation): 0.996\n",
      "Average accuracy score (train): 0.945\n",
      "Average accuracy score (validation): 0.948\n",
      "Standard deviation of accuracy score (train): 0.006\n",
      "Standard deviation of accuracy score (validation): 0.012\n",
      "95% CI of accuracy score (train):  [0.93775126 0.95672111]\n",
      "95% CI of accuracy score (validation):  [0.92207602 0.95906433]\n",
      "Average ROC AUC (train): 0.984\n",
      "Average ROC AUC (validation): 0.986\n",
      "Standard deviation of ROC AUC (train): 0.002\n",
      "Standard deviation of ROC AUC (validation): 0.005\n",
      "95% CI of ROC AUC (train):  [0.98048446 0.98603514]\n",
      "95% CI of ROC AUC (validation):  [0.97889165 0.99562646]\n"
     ]
    }
   ],
   "source": [
    "params = {'C': np.linspace(1e-4,1,1000).tolist(), 'kernel': ['linear'], 'probability': [True], 'random_state': [12345]}\n",
    "NUM_TRIALS=10\n",
    "\n",
    "estimator = SVC()\n",
    "\n",
    "best_estimators, best_params, cum_train_aucc, cum_val_aucc, cum_train_auc, cum_val_auc = ModelSelectionNestedCV(estimator,params,X,y,NUM_TRIALS)"
   ]
  },
  {
   "cell_type": "code",
   "execution_count": 7,
   "metadata": {},
   "outputs": [
    {
     "name": "stdout",
     "output_type": "stream",
     "text": [
      "Mean value of C parameter is: 0.42728450450450445\n",
      "STD of C parameter is: 0.14939518061788776\n",
      "Accuracy score (train): 0.947\n",
      "ROC AUC (train): 0.985\n"
     ]
    }
   ],
   "source": [
    "Cs = []\n",
    "\n",
    "for i in range(NUM_TRIALS):\n",
    "    Cs.append(best_params[i]['C'])\n",
    "\n",
    "print('Mean value of C parameter is: '+str(np.mean(Cs)))\n",
    "print('STD of C parameter is: '+str(np.std(Cs)))\n",
    "\n",
    "C_mean = np.mean(Cs)\n",
    "\n",
    "params = {'C': C_mean, 'kernel': 'linear', 'probability': True, 'random_state': 12345}\n",
    "\n",
    "scaler = StandardScaler()\n",
    "scaler.fit(X)\n",
    "\n",
    "X_scaled = scaler.transform(X)\n",
    "\n",
    "estimator = SVC()\n",
    "\n",
    "estimator.set_params(**params)\n",
    "\n",
    "estimator.fit(X_scaled,y)\n",
    "\n",
    "print(\"Accuracy score (train): {0:.3f}\".format(estimator.score(X_scaled, y)))\n",
    "\n",
    "roc_auc = roc_auc_score(y, estimator.predict_proba(X_scaled)[:,1])\n",
    "\n",
    "print(\"ROC AUC (train): {0:.3f}\".format(roc_auc))"
   ]
  },
  {
   "cell_type": "code",
   "execution_count": 8,
   "metadata": {},
   "outputs": [],
   "source": [
    "# Connect to TabPy server using the client library\n",
    "connection = tabpy_client.Client('http://localhost:9004/')"
   ]
  },
  {
   "cell_type": "code",
   "execution_count": 9,
   "metadata": {},
   "outputs": [],
   "source": [
    "# The scoring function that will use the Gradient Boosting Classifier to classify new data points\n",
    "def BreastCancerDiagnosis(mean_concavity, worst_area):\n",
    "    X = np.column_stack([mean_concavity, worst_area])\n",
    "    X = scaler.transform(X)\n",
    "    return encoder.inverse_transform(estimator.predict(X)).tolist()"
   ]
  },
  {
   "cell_type": "code",
   "execution_count": 10,
   "metadata": {},
   "outputs": [],
   "source": [
    "# Publish the SuggestDiagnosis function to TabPy server so it can be used from Tableau\n",
    "# Using the name DiagnosticsDemo and a short description of what it does\n",
    "connection.deploy('BreastCancerDiagnosis',\n",
    "                  BreastCancerDiagnosis,\n",
    "                  'Returns diagnosis suggestion based on ensemble model trained using Wisconsin Breast Cancer dataset',override=True)"
   ]
  },
  {
   "cell_type": "code",
   "execution_count": 11,
   "metadata": {},
   "outputs": [],
   "source": [
    "from sklearn.cluster import KMeans"
   ]
  },
  {
   "cell_type": "code",
   "execution_count": 12,
   "metadata": {},
   "outputs": [],
   "source": [
    "def kmeans(var1,var2,kcluster):\n",
    "    X = np.column_stack([var1,var2])\n",
    "    X = StandardScaler().fit_transform(X)\n",
    "    kmeans = KMeans(n_clusters=int(kcluster[0]), random_state=0).fit(X)\n",
    "    return kmeans.labels_.tolist()"
   ]
  },
  {
   "cell_type": "code",
   "execution_count": 13,
   "metadata": {},
   "outputs": [],
   "source": [
    "connection.deploy('Kmeans-clust',kmeans,'Returns the clustering label for each individual',override=True)"
   ]
  },
  {
   "cell_type": "code",
   "execution_count": 14,
   "metadata": {},
   "outputs": [],
   "source": [
    "def pca1(_arg1,_arg2,_arg3):\n",
    "    X = np.column_stack([_arg1,_arg2,_arg3])\n",
    "    X = StandardScaler().fit_transform(X)\n",
    "    pca = PCA(n_components=2)\n",
    "    pca.fit(X)\n",
    "    X = pca.transform(X)\n",
    "\n",
    "    return X[:,0].tolist()"
   ]
  },
  {
   "cell_type": "code",
   "execution_count": 15,
   "metadata": {},
   "outputs": [],
   "source": [
    "def pca2(_arg1,_arg2,_arg3):\n",
    "    X = np.column_stack([_arg1,_arg2,_arg3])\n",
    "    X = StandardScaler().fit_transform(X)\n",
    "    pca = PCA(n_components=2)\n",
    "    pca.fit(X)\n",
    "    X = pca.transform(X)\n",
    "\n",
    "    return X[:,1].tolist()"
   ]
  },
  {
   "cell_type": "code",
   "execution_count": 16,
   "metadata": {},
   "outputs": [],
   "source": [
    "connection.deploy('pca1',pca1,'Returns PCA coordinate 1',override=True)\n",
    "connection.deploy('pca2',pca2,'Returns PCA coordinate 2',override=True)"
   ]
  }
 ],
 "metadata": {
  "kernelspec": {
   "display_name": "Python 3",
   "language": "python",
   "name": "python3"
  },
  "language_info": {
   "codemirror_mode": {
    "name": "ipython",
    "version": 3
   },
   "file_extension": ".py",
   "mimetype": "text/x-python",
   "name": "python",
   "nbconvert_exporter": "python",
   "pygments_lexer": "ipython3",
   "version": "3.7.3"
  }
 },
 "nbformat": 4,
 "nbformat_minor": 1
}
